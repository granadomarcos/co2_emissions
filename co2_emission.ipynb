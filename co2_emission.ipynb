{
 "cells": [
  {
   "cell_type": "markdown",
   "id": "7fba757e",
   "metadata": {},
   "source": [
    "### Importação das bibliotecas "
   ]
  },
  {
   "cell_type": "code",
   "execution_count": null,
   "id": "9f60463e",
   "metadata": {},
   "outputs": [],
   "source": [
    "import pandas as pd\n",
    "import numpy as np\n",
    "from pyspark.sql import SparkSession\n",
    "from unidecode import unidecode\n",
    "from datetime import datetime\n",
    "import re\n",
    "import matplotlib.pyplot as plt\n",
    "import matplotlib.pyplot as plt\n",
    "import seaborn as sns\n",
    "from sklearn.linear_model import LinearRegression"
   ]
  },
  {
   "cell_type": "markdown",
   "id": "019eeed9",
   "metadata": {},
   "source": [
    "### Leitura do arquivo e conversão para o formato parquet\n"
   ]
  },
  {
   "cell_type": "markdown",
   "id": "3560c0ca",
   "metadata": {},
   "source": [
    "#### Leitura com Pandas"
   ]
  },
  {
   "cell_type": "code",
   "execution_count": null,
   "id": "cb02058b",
   "metadata": {},
   "outputs": [],
   "source": [
    "# Leitura do arvuivo em CSV\n",
    "emissao_co2 = pd.read_csv(\"Emissão_CO2_por_países.csv\")\n",
    "\n",
    "# Escrita em Parquet com compressão Snappy (mais comum). Para arquivos pequenos e execução local, é uma alternativa boa.\n",
    "# Para ambientes distribuidos e arquivos grandes, é mais adequado a utilização do PySpark\n",
    "emissao_co2.to_parquet(\"emissao_co2.parquet\", engine=\"pyarrow\", compression=\"snappy\")"
   ]
  },
  {
   "cell_type": "markdown",
   "id": "feae845c",
   "metadata": {},
   "source": [
    "#### Leitura com PySpark"
   ]
  },
  {
   "cell_type": "code",
   "execution_count": null,
   "id": "fff1778c",
   "metadata": {},
   "outputs": [],
   "source": [
    "\n",
    "\"\"\" # Essa etapa foi apresentada para teste\n",
    "# Criar uma SparkSession\n",
    "spark = SparkSession.builder.appName(\"CSV to Parquet\").getOrCreate()\n",
    "\n",
    "# Caminho para o arquivo CSV de entrada\n",
    "csv_path = \"Emissão_CO2_por_países.csv\"\n",
    "\n",
    "# Caminho para o diretório de saída Parquet\n",
    "# No PySpark, cria-se uma pasta contendo vários arquivos\n",
    "parquet_path = \"emissao_co2.parquet\"\n",
    "\n",
    "# Leitura do CSV\n",
    "df = spark.read.option(\"header\", \"true\").csv(csv_path)\n",
    "\n",
    "# Escrita em formato Parquet\n",
    "df.write.mode(\"overwrite\").parquet(parquet_path)\n",
    "\n",
    "# Encerrar a SparkSession (opcional)\n",
    "spark.stop()\n",
    "\"\"\""
   ]
  },
  {
   "cell_type": "code",
   "execution_count": null,
   "id": "1494b8a3",
   "metadata": {},
   "outputs": [],
   "source": [
    "# Leitura do arquivo em parquet\n",
    "emissao_co2 = pd.read_parquet(\"emissao_co2.parquet\")"
   ]
  },
  {
   "cell_type": "code",
   "execution_count": null,
   "id": "8a354ffe",
   "metadata": {},
   "outputs": [],
   "source": [
    "emissao_co2.head()"
   ]
  },
  {
   "cell_type": "code",
   "execution_count": null,
   "id": "68b9f3df",
   "metadata": {},
   "outputs": [],
   "source": [
    "emissao_co2.tail()"
   ]
  },
  {
   "cell_type": "code",
   "execution_count": null,
   "id": "5bef0685",
   "metadata": {},
   "outputs": [],
   "source": [
    "# Obtendo informações gerais sobre a base de dados\n",
    "emissao_co2.info()"
   ]
  },
  {
   "cell_type": "code",
   "execution_count": null,
   "id": "c237dd75",
   "metadata": {},
   "outputs": [],
   "source": [
    "# Verificando valores faltantes\n",
    "emissao_co2.isnull().sum()"
   ]
  },
  {
   "cell_type": "code",
   "execution_count": null,
   "id": "2d26ad72",
   "metadata": {},
   "outputs": [],
   "source": [
    "# A base de dados conta com um total de 191 países, sendo que existem occorências vazias\n",
    "len(set(emissao_co2['Country']))"
   ]
  },
  {
   "cell_type": "code",
   "execution_count": null,
   "id": "78db3f6f",
   "metadata": {},
   "outputs": [],
   "source": [
    "# Verificação de ocorrências vazias para Países\n",
    "sum(emissao_co2['Country'].isnull())"
   ]
  },
  {
   "cell_type": "code",
   "execution_count": null,
   "id": "761a90ea",
   "metadata": {},
   "outputs": [],
   "source": [
    "# Verificação de ocorrências vazias para Países\n",
    "sum(emissao_co2['Region'].isnull())"
   ]
  },
  {
   "cell_type": "code",
   "execution_count": null,
   "id": "6722837f",
   "metadata": {},
   "outputs": [],
   "source": [
    "# As regiões apresentam variações em suas nomenclaturas\n",
    "set(emissao_co2['Region'])"
   ]
  },
  {
   "cell_type": "markdown",
   "id": "21279f6c",
   "metadata": {},
   "source": [
    "### Padronização das Regiões\n",
    "##### Nessa seção, será padronizada as nomenclaturas de Regiões"
   ]
  },
  {
   "cell_type": "code",
   "execution_count": null,
   "id": "30b58597",
   "metadata": {},
   "outputs": [],
   "source": [
    "\"\"\" \n",
    "re.compile(): cria um padrão de expressão regular para buscar certos termos.\n",
    "\n",
    "r\"...\": string \"raw\" (crua), onde \\ não é tratado como caractere especial do Python.\n",
    "\n",
    "\\b: representa uma fronteira de palavra (para evitar que, por exemplo, \"asiático\" bata com \"Asia\").\n",
    "\n",
    "re.IGNORECASE: faz a busca sem diferenciar maiúsculas de minúsculas.\n",
    "\"\"\"\n",
    "# Gera um padrão de busca para cada região \n",
    "formato_padrao = {\n",
    "    \"Asia\": re.compile(r\"\\basia\\b\", re.IGNORECASE), \n",
    "    \"Africa\": re.compile(r\"\\bafrica\\b|\\bfric\", re.IGNORECASE),\n",
    "    \"Europa\": re.compile(r\"\\beuro|\\beuropa\", re.IGNORECASE),\n",
    "    \"Oceania\": re.compile(r\"\\bocean|\\boceania\", re.IGNORECASE),\n",
    "    \"Americas\": re.compile(r\"\\bameric|\\bamerica|\\baméric\", re.IGNORECASE)\n",
    "}\n",
    "\n",
    "# Função para normalizar as variações das nomenclaturas de Regiões\n",
    "def normalizar_regiao(regiao):\n",
    "    if pd.isnull(regiao): # Verifica se a variável regiao está vazia ou nula (NaN).\n",
    "        return \"Outros\"   # Se estiver, retorna \"Outros\" como valor padrão.\n",
    "    # remove espaços extras antes e depois.\n",
    "    # transforma tudo em letras minúsculas.\n",
    "    # remove acentos e caracteres especiais.\n",
    "    regiao_normalizada = unidecode(regiao.strip().lower()) \n",
    "    \n",
    "    # Percorre cada item no dicionário formato_padrao\n",
    "    # padrao.search(...) → verifica se o texto (já limpo e sem acento) bate com algum dos padrões definidos\n",
    "    for nome_normalizado, padrao in formato_padrao.items():\n",
    "        if padrao.search(regiao_normalizada):\n",
    "            return nome_normalizado\n",
    "\n",
    "    return \"Outros\""
   ]
  },
  {
   "cell_type": "code",
   "execution_count": null,
   "id": "9c1d4705",
   "metadata": {},
   "outputs": [],
   "source": [
    "# Os 24 dados faltantes de Regiões listados anteriormente, são referentes ao país Zimbabwe. \n",
    "# Preenche os valores faltantes para o país Zimbabwe\n",
    "emissao_co2.loc[(emissao_co2['Country'] == 'Zimbabwe') & \n",
    "                (emissao_co2['Region'].isnull()),'Region'] = 'Africa'"
   ]
  },
  {
   "cell_type": "code",
   "execution_count": null,
   "id": "12fde545",
   "metadata": {},
   "outputs": [],
   "source": [
    "\"\"\" \n",
    "Aplica a função normalizar_regiao linha por linha (ou seja, valor por valor da coluna).\n",
    "\n",
    "Para cada valor da coluna \"Region\", a função vai:\n",
    "\n",
    "Verificar se está nulo (NaN) → retorna \"Outros\"\n",
    "\n",
    "Remover acentos, espaços extras, letras maiúsculas\n",
    "\n",
    "Verificar se a string contém padrões como \"afric\", \"euro\", \"americ\", etc.\n",
    "\n",
    "Retornar uma versão padronizada:\n",
    "\n",
    "\"Africa\"\n",
    "\n",
    "\"Asia\"\n",
    "\n",
    "\"Americas\"\n",
    "\n",
    "\"Europa\"\n",
    "\n",
    "\"Oceania\"\n",
    "\n",
    "Ou \"Outros\" se não encontrar correspondência\n",
    "\n",
    "Trata acentos e variações de grafia\n",
    "\n",
    "Padroniza os nomes de região\n",
    "\n",
    "Facilita filtros, agrupamentos e visualizações futuras\n",
    "\n",
    "Evita erros como \"África\" vs \"africano\" vs \"africa\"\n",
    "\n",
    "\"\"\"\n",
    "\n",
    "# Após preencher os dados faltantes de Região, vamos normalizar as variações de região aplicando a função normalizar_regiao\n",
    "emissao_co2['Region'] = emissao_co2['Region'].apply(normalizar_regiao)\n",
    "\n"
   ]
  },
  {
   "cell_type": "code",
   "execution_count": null,
   "id": "26b25345",
   "metadata": {},
   "outputs": [],
   "source": [
    "# Regiões ajustadas\n",
    "set(emissao_co2['Region'])"
   ]
  },
  {
   "cell_type": "code",
   "execution_count": null,
   "id": "df36b3a3",
   "metadata": {},
   "outputs": [],
   "source": [
    "emissao_co2.tail()"
   ]
  },
  {
   "cell_type": "markdown",
   "id": "66fc73b8",
   "metadata": {},
   "source": [
    "### Padronização das Datas\n",
    "##### Conforme constatado anteriormente, o arquivo conta com datas despadronizadas, faltantes. Nesta seção, vamos manter apenas as datas com valores adequados. \n",
    "##### Outro detalhe, é que os dados para análise propriamente ditos contemplam apenas o período entre 1990 até 2019. Datas anteriores à 1990 serão desconsideradas."
   ]
  },
  {
   "cell_type": "code",
   "execution_count": null,
   "id": "f7ef4a4e",
   "metadata": {},
   "outputs": [],
   "source": [
    "\"\"\" \n",
    "É uma função do pandas que converte strings em objetos do tipo datetime64, que permitem:\n",
    "\n",
    "ordenar por data,\n",
    "\n",
    "calcular intervalos de tempo,\n",
    "\n",
    "extrair ano, mês, dia, etc.\n",
    "\n",
    "Diz ao pandas o que fazer quando a string não puder ser convertida em data:\n",
    "\n",
    "\"coerce\" → converte valores inválidos para NaT (\"Not a Time\", tipo nulo de data)\n",
    "\n",
    "Exemplo: \"31-02-2022\" → inválido → vira NaT\n",
    "\"\"\"\n",
    "\n",
    "# Converte a coluna Date para datetime\n",
    "emissao_co2['Date'] = pd.to_datetime(emissao_co2['Date'], \n",
    "                                     format='%d-%m-%Y', errors='coerce')"
   ]
  },
  {
   "cell_type": "code",
   "execution_count": null,
   "id": "c84d2937",
   "metadata": {},
   "outputs": [],
   "source": [
    "# Calcula Ano atual\n",
    "ano_atual = datetime.now().year"
   ]
  },
  {
   "cell_type": "code",
   "execution_count": null,
   "id": "649ac4ca",
   "metadata": {},
   "outputs": [],
   "source": [
    "# Verifica valores máximo e mínimo das datas. \n",
    "print('Maior Data:',emissao_co2['Date'].max())\n",
    "print('Menor Data:',emissao_co2['Date'].min())"
   ]
  },
  {
   "cell_type": "code",
   "execution_count": null,
   "id": "9fdac396",
   "metadata": {},
   "outputs": [],
   "source": [
    "# Foi identificado que os dados da base iniciam-se todos em 1990, dessa forma, tudo o que está antes, será descartado.\n",
    "datas_fora_intervalo = emissao_co2[\n",
    "    (emissao_co2[\"Date\"].dt.year < 1990) | \n",
    "    (emissao_co2[\"Date\"].dt.year > 2025)\n",
    "]\n",
    "print(datas_fora_intervalo)\n",
    "#print(len(datas_fora_intervalo))"
   ]
  },
  {
   "cell_type": "code",
   "execution_count": null,
   "id": "e8fcee47",
   "metadata": {},
   "outputs": [],
   "source": [
    "# Filtrar entre 1990 e o presente ano\n",
    "emissao_co2 = emissao_co2[(emissao_co2['Date'].dt.year >= 1990) & \n",
    "                          (emissao_co2['Date'].dt.year <= ano_atual)]\n"
   ]
  },
  {
   "cell_type": "code",
   "execution_count": null,
   "id": "6ccfe89c",
   "metadata": {},
   "outputs": [],
   "source": [
    "print(emissao_co2['Date'].dt.year.unique())\n"
   ]
  },
  {
   "cell_type": "code",
   "execution_count": null,
   "id": "daadafd3",
   "metadata": {},
   "outputs": [],
   "source": [
    "# dataset com datas ajustadas no padrão datetime\n",
    "emissao_co2.head()"
   ]
  },
  {
   "cell_type": "code",
   "execution_count": null,
   "id": "01266fd9",
   "metadata": {},
   "outputs": [],
   "source": [
    "# Agora o dataset possui valores apenas entre 1990 e 2019\n",
    "print('Maior Data:',emissao_co2['Date'].max())\n",
    "print('Menor Data:',emissao_co2['Date'].min())"
   ]
  },
  {
   "cell_type": "code",
   "execution_count": null,
   "id": "a891e462",
   "metadata": {},
   "outputs": [],
   "source": [
    "# Verifica datas fora do padrão e formatação\n",
    "datas_invalidas = emissao_co2[emissao_co2[\"Date\"].isna()]\n",
    "print(f\"{len(datas_invalidas)} datas inválidas encontradas.\")\n"
   ]
  },
  {
   "cell_type": "code",
   "execution_count": null,
   "id": "2c29143f",
   "metadata": {},
   "outputs": [],
   "source": []
  },
  {
   "cell_type": "markdown",
   "id": "0847e235",
   "metadata": {},
   "source": [
    "### Padronização dos Países\n",
    "##### Existe uma série de dados faltantes na coluna de Países. Nesta seção, isso será corrigido\n"
   ]
  },
  {
   "cell_type": "code",
   "execution_count": null,
   "id": "3f503d7d",
   "metadata": {},
   "outputs": [],
   "source": [
    "# Existe uma série de dados faltantes na coluna de Países\n",
    "emissao_co2.head()"
   ]
  },
  {
   "cell_type": "code",
   "execution_count": null,
   "id": "7562b3b7",
   "metadata": {},
   "outputs": [],
   "source": [
    "\"\"\" \n",
    "Primeiro ordena pelas regiões (Region) em ordem alfabética\n",
    "\n",
    "Dentro de cada região, ordena os países (Country)\n",
    "\n",
    "Dentro de cada país, ordena cronologicamente pelas datas (Date)\n",
    "\n",
    "Para visualizar os dados de forma mais organizada\n",
    "\n",
    "Para facilitar análise por região/país/tempo\n",
    "\n",
    "Para aplicar funções como .groupby() ou .rolling() de forma mais controlada\n",
    "\"\"\"\n",
    "\n",
    "# Ordena a base para facilitar preenchimento\n",
    "emissao_co2 = emissao_co2.sort_values(by=[\"Region\", \"Country\", \"Date\"])\n",
    "emissao_co2.head()"
   ]
  },
  {
   "cell_type": "code",
   "execution_count": null,
   "id": "3709e6fe",
   "metadata": {},
   "outputs": [],
   "source": [
    "\"\"\" \n",
    "emissao_co2.groupby(\"Region\")\n",
    "Isso agrupa o DataFrame por \"Region\".\n",
    "Cada grupo contém apenas as linhas de uma determinada região (como \"Africa\", \"Asia\", etc).\n",
    "\n",
    "[\"Country\"]\n",
    "Seleciona apenas a coluna \"Country\" dentro de cada grupo.\n",
    "Ou seja, vamos trabalhar só com os países de cada região separadamente.\n",
    "\n",
    ".transform(...)\n",
    "Aplica uma função linha por linha, preservando o tamanho original da coluna.\n",
    "Ou seja, se você tem 100 linhas, continua com 100 linhas — só que com os dados transformados.\n",
    "\n",
    "lambda x: x.ffill().bfill()\n",
    "Aqui está a função que será aplicada a cada grupo (cada região):\n",
    "\n",
    "x.ffill(): forward fill\n",
    "Preenche valores nulos com o último valor válido acima.\n",
    "\n",
    "x.bfill(): backward fill\n",
    "Preenche valores nulos com o próximo valor válido abaixo (útil se o valor ausente estiver na primeira linha).\n",
    "\n",
    "Juntos: ffill().bfill()\n",
    "Essa combinação garante que todos os NaN serão preenchidos, seja com o valor anterior, seja com o próximo.\n",
    "\n",
    "\"\"\"\n",
    "# Preenche usando forward fill e back fill dentro de cada região\n",
    "# Esse método assume que os países aparecem em blocos no mesmo grupo de região\n",
    "emissao_co2[\"Country\"] = emissao_co2.groupby(\"Region\")[\"Country\"].transform(lambda x: x.ffill().bfill())"
   ]
  },
  {
   "cell_type": "code",
   "execution_count": null,
   "id": "8ce9880b",
   "metadata": {},
   "outputs": [],
   "source": [
    "# Mostra linhas que ainda não têm país\n",
    "print(emissao_co2[emissao_co2[\"Country\"].isna()])"
   ]
  },
  {
   "cell_type": "code",
   "execution_count": null,
   "id": "cb9e60a2",
   "metadata": {},
   "outputs": [],
   "source": [
    "#  Verificando valores faltantes, \n",
    "# Agora, somente a coluna \"Kilotons of Co2\" possui valores faltantes\n",
    "emissao_co2.isnull().sum()"
   ]
  },
  {
   "cell_type": "markdown",
   "id": "97a53f57",
   "metadata": {},
   "source": [
    "### Ajuste para Kilotons of Co2\n",
    "\n",
    "##### Temos uma série de linhas com valores inexistentes. \n",
    "\n",
    "##### Para resolver isso, temos algumas abordagens.\n",
    "\n",
    "##### - A primeira delas, é excluir todas as linhas com dados faltantes e seguir a análise. Ela é mais rápida, mas é possível que seja perdido dados valiosos. \n",
    "\n",
    "##### - A segunda, é utilizar uma base de dados contendo a população mundial de 1960-2016, proveniente do Kaggle. Dessa forma, iremos utilizar esta base para calcular a coluna de kilotons of co2 para cada país, no respectivo ano em que não há dados. Como essa base possui dados até o ano de 2016, ainda faltariam 3 anos para completar a análise. Dessa forma, vamos calcular os anos faltantes por meio de uma regressão linear. A partir disso, utilizando os valores de Metric Tons Per Capita e a população mundial será calculado o valor de Kilotons of Co2 por ano.\n",
    "\n",
    "##### Calcular Kilotons of CO2 com base na população e nas emissões per capita\n",
    "\n",
    "$$\n",
    "Kilotons = \\frac{População \\times Metric\\ Tons\\ Per\\ Capita}{1000}\n",
    "$$\n",
    "\n",
    "\n"
   ]
  },
  {
   "cell_type": "code",
   "execution_count": null,
   "id": "3f59b730",
   "metadata": {},
   "outputs": [],
   "source": [
    "emissao_co2.head()"
   ]
  },
  {
   "cell_type": "code",
   "execution_count": null,
   "id": "2736b71f",
   "metadata": {},
   "outputs": [],
   "source": [
    "# Verificação de linhas nulas para a coluna de Kilotons of Co2.\n",
    "linhas_nulas = emissao_co2[emissao_co2[\"Kilotons of Co2\"].isnull()]\n",
    "print(\"Linhas com 'Kilotons of Co2' nulo:\")\n",
    "linhas_nulas"
   ]
  },
  {
   "cell_type": "code",
   "execution_count": null,
   "id": "9803694a",
   "metadata": {},
   "outputs": [],
   "source": [
    "# Verificando valores faltantes, \n",
    "# Agora, somente a coluna Kilotons of Co2 possui valores faltantes\n",
    "emissao_co2.isnull().sum()"
   ]
  },
  {
   "cell_type": "code",
   "execution_count": null,
   "id": "12563231",
   "metadata": {},
   "outputs": [],
   "source": [
    "# Os paises com dados faltantes são apenas os:\n",
    "set(linhas_nulas['Country']) # Usa-se set para pegar apenas os valores únicos da lista."
   ]
  },
  {
   "cell_type": "code",
   "execution_count": null,
   "id": "00faab4f",
   "metadata": {},
   "outputs": [],
   "source": [
    "# Leitura da base de dados da população mundial\n",
    "pop_mundial = pd.read_csv('WorldPopulation.csv')\n",
    "\n",
    "pop_mundial.head()"
   ]
  },
  {
   "cell_type": "code",
   "execution_count": null,
   "id": "bea173a8",
   "metadata": {},
   "outputs": [],
   "source": [
    "# Substituir o UK por United Kingdom\n",
    "pop_mundial[\"Country\"] = pop_mundial[\"Country\"].replace(\"UK\", \"United Kingdom\")"
   ]
  },
  {
   "cell_type": "code",
   "execution_count": null,
   "id": "507f4094",
   "metadata": {},
   "outputs": [],
   "source": [
    "# Buscar o match de paises com dados faltantes que estão no dataframe de população mundial\n",
    "# .unique() talvez não seja necessário REVER\n",
    "match = set(pop_mundial[\"Country\"].unique()) & set(linhas_nulas['Country'])\n",
    "match"
   ]
  },
  {
   "cell_type": "code",
   "execution_count": null,
   "id": "b630ccfa",
   "metadata": {},
   "outputs": [],
   "source": [
    "\"\"\" \n",
    "pop_mundial[\"Country\"].isin(match)\n",
    "\n",
    "pop_mundial[\"Country\"] é a coluna \"Country\" do DataFrame pop_mundial.\n",
    "\n",
    ".isin(match) cria uma máscara booleana (uma série de True/False) indicando para cada linha se o valor na coluna \"Country\" está dentro do conjunto match.\n",
    "\n",
    "Ou seja, essa expressão vai ser True para os países que estão no conjunto match e False para os que não estão.\n",
    "\n",
    "pop_mundial[pop_mundial[\"Country\"].isin(match)]\n",
    "\n",
    "Aqui estamos usando essa máscara booleana para filtrar as linhas do DataFrame pop_mundial.\n",
    "\n",
    "Só ficam as linhas onde o país está em match.\n",
    "\n",
    ".copy()\n",
    "\n",
    "Cria uma cópia do DataFrame filtrado, para evitar problemas futuros de SettingWithCopyWarning do pandas, que pode acontecer quando você mexe diretamente numa fatia (slice) do DataFrame original.\n",
    "\n",
    "pop_mundial = ...\n",
    "\n",
    "Substitui o DataFrame original pop_mundial pela versão filtrada (só com países que estão em match).\n",
    "\n",
    "Essa linha filtra o DataFrame pop_mundial para manter apenas as linhas cujo país está presente no conjunto match, e depois cria uma cópia desse subconjunto, salvando de volta em pop_mundial.\n",
    "\"\"\"\n",
    "\n",
    "pop_mundial = pop_mundial[pop_mundial[\"Country\"].isin(match)].copy()"
   ]
  },
  {
   "cell_type": "code",
   "execution_count": null,
   "id": "377188d8",
   "metadata": {},
   "outputs": [],
   "source": [
    "pop_mundial.head()"
   ]
  },
  {
   "cell_type": "code",
   "execution_count": null,
   "id": "762408f9",
   "metadata": {},
   "outputs": [],
   "source": [
    "# Conversão da data e extração do ano\n",
    "# Rever essa conversão, acredito que já foi feita anteriormente REVER\n",
    "emissao_co2[\"Date\"] = pd.to_datetime(emissao_co2[\"Date\"], errors=\"coerce\")\n",
    "emissao_co2[\"Ano\"] = emissao_co2[\"Date\"].dt.year\n"
   ]
  },
  {
   "cell_type": "code",
   "execution_count": null,
   "id": "65a88005",
   "metadata": {},
   "outputs": [],
   "source": [
    "# Selecionar apenas anos até 2016 e Kilotons ausentes\n",
    "faltantes = emissao_co2[(emissao_co2[\"Kilotons of Co2\"].isna()) & (emissao_co2[\"Ano\"] <= 2016)].copy()"
   ]
  },
  {
   "cell_type": "code",
   "execution_count": null,
   "id": "0f078691",
   "metadata": {},
   "outputs": [],
   "source": [
    "\"\"\" \n",
    "melt \"derrete\" várias colunas em duas colunas: uma com o nome original da coluna (que vira uma variável categórica, aqui o ano) e outra com os valores dessas colunas (a população).\n",
    "\n",
    "\n",
    "id_vars=[\"Country\"]\n",
    "Diz que a coluna \"Country\" deve permanecer fixa, ou seja, não será \"derretida\".\n",
    "\n",
    "value_vars=[str(ano) for ano in range(1960, 2017)]\n",
    "Especifica quais colunas serão \"derretidas\" (transformadas em valores de uma nova coluna). Aqui está criando uma lista de strings de anos, de 1960 até 2016 (porque o range vai até 2017, excluindo o último). Essas colunas são as que contêm a população por ano.\n",
    "\n",
    "var_name=\"Ano\"\n",
    "O nome da nova coluna que vai conter os nomes das colunas originais, ou seja, os anos.\n",
    "\n",
    "value_name=\"Populacao\"\n",
    "O nome da nova coluna que vai conter os valores correspondentes (população).\n",
    "\n",
    "DataFrame pop_long com 3 colunas:\n",
    "\n",
    "\"Country\" — país\n",
    "\n",
    "\"Ano\" — ano (antes string)\n",
    "\n",
    "\"Populacao\" — população daquele país naquele ano\n",
    "\"\"\"\n",
    "\n",
    "# Transformar pop_mundial para formato longo (Ano, Populacao)\n",
    "pop_long = pop_mundial.melt(\n",
    "    id_vars=[\"Country\"],\n",
    "    value_vars=[str(ano) for ano in range(1960, 2017)],\n",
    "    var_name=\"Ano\",\n",
    "    value_name=\"Populacao\"\n",
    ")\n",
    "pop_long[\"Ano\"] = pop_long[\"Ano\"].astype(int) # Será que já não foi convertido antes? REVER\n",
    "\n",
    "\n"
   ]
  },
  {
   "cell_type": "code",
   "execution_count": null,
   "id": "8903f9fb",
   "metadata": {},
   "outputs": [],
   "source": [
    "\"\"\" \n",
    "\n",
    "emissao_co2.index.names\n",
    "Retorna uma lista (ou tupla) com o(s) nome(s) das colunas que compõem o índice do DataFrame. Exemplo: Index(['Ano', 'Country'], dtype='object')\n",
    "\n",
    "if \"Ano\" in emissao_co2.index.names:\n",
    "Verifica se a coluna \"Ano\" está no índice do DataFrame.\n",
    "\n",
    "emissao_co2.reset_index()\n",
    "O método reset_index() \"desfaz\" o índice, transformando as colunas do índice em colunas normais do DataFrame, e recriando um índice padrão numérico (0, 1, 2,...).\n",
    "\n",
    "Atribuição emissao_co2 = emissao_co2.reset_index()\n",
    "Salva o DataFrame com índice resetado, para garantir que \"Ano\" agora é uma coluna normal, não parte do índice.\n",
    "\n",
    "\"\"\"\n",
    "# Garantir que 'Ano' seja uma coluna, não índice\n",
    "if \"Ano\" in emissao_co2.index.names:\n",
    "    emissao_co2 = emissao_co2.reset_index()"
   ]
  },
  {
   "cell_type": "code",
   "execution_count": null,
   "id": "265d708a",
   "metadata": {},
   "outputs": [],
   "source": [
    "\"\"\" \n",
    "how=\"left\"\n",
    "Tipo da junção: left join.\n",
    "Isso significa que o resultado vai manter todas as linhas do DataFrame faltantes, e vai adicionar as colunas de pop_long onde houver correspondência em \"Country\" e \"Ano\".\n",
    "Caso não haja correspondência, as colunas de pop_long serão preenchidas com NaN.\n",
    "\"\"\"\n",
    "# Juntar os faltantes com população\n",
    "faltantes_merged = faltantes.merge(pop_long, on=[\"Country\", \"Ano\"], how=\"left\")"
   ]
  },
  {
   "cell_type": "code",
   "execution_count": null,
   "id": "a1cf4565",
   "metadata": {},
   "outputs": [],
   "source": [
    "# Calcular estimativa de Kilotons\n",
    "faltantes_merged[\"Kilotons estimado\"] = (\n",
    "    faltantes_merged[\"Populacao\"] * faltantes_merged[\"Metric Tons Per Capita\"] / 1000\n",
    ")\n"
   ]
  },
  {
   "cell_type": "code",
   "execution_count": null,
   "id": "6c5b191b",
   "metadata": {},
   "outputs": [],
   "source": [
    "# Verifica se o DataFrame emissao_co2 não possui a coluna \"Ano\". Isso é importante para evitar criar essa coluna duas vezes ou sobrescrever dados existentes.\n",
    "# Criar a coluna 'Ano' se não existir. Cria essa nova coluna extraindo o ano da coluna \"Date\" (que deve ser do tipo datetime)\n",
    "# Atualizar o dataframe original com os valores estimados\n",
    "# Garantir que 'Ano' também está no emissões_co2 original\n",
    "if \"Ano\" not in emissao_co2.columns:\n",
    "    emissao_co2[\"Ano\"] = emissao_co2[\"Date\"].dt.year"
   ]
  },
  {
   "cell_type": "code",
   "execution_count": null,
   "id": "973a142a",
   "metadata": {},
   "outputs": [],
   "source": [
    "\"\"\" \n",
    "faltantes_merged é um DataFrame que contém registros com dados estimados.\n",
    "\n",
    ".iterrows() permite iterar linha por linha.\n",
    "\n",
    "row representa uma linha individual (como uma série), e idx é o índice da linha.\n",
    "\n",
    "Aqui estamos procurando, no DataFrame emissao_co2, a linha que tem o mesmo país e o mesmo ano da linha atual de faltantes_merged.\n",
    "\n",
    "O operador & combina as duas condições (país E ano iguais).\n",
    "\n",
    "\n",
    "emissao_co2.loc[condicao, \"Kilotons of Co2\"] seleciona a célula correspondente à condição.\n",
    "\n",
    "row[\"Kilotons estimado\"] é o valor estimado que será usado para preencher.\n",
    "\n",
    "O código substitui o valor faltante na coluna \"Kilotons of Co2\" com esse valor estimado.\n",
    "\n",
    "\n",
    "\"\"\"\n",
    "# Usar merge com índice para localizar e preencher\n",
    "for idx, row in faltantes_merged.iterrows():\n",
    "    condicao = (emissao_co2[\"Country\"] == row[\"Country\"]) & (emissao_co2[\"Ano\"] == row[\"Ano\"])\n",
    "    emissao_co2.loc[condicao, \"Kilotons of Co2\"] = row[\"Kilotons estimado\"]\n",
    "\n",
    "print(\"Valores estimados preenchidos com sucesso!\")"
   ]
  },
  {
   "cell_type": "code",
   "execution_count": null,
   "id": "8b1fc82d",
   "metadata": {},
   "outputs": [],
   "source": [
    "# Verificando valores faltantes, \n",
    "# Agora, somente a coluna Kilotons of Co2 possui valores faltantes\n",
    "emissao_co2.isnull().sum()"
   ]
  },
  {
   "cell_type": "code",
   "execution_count": null,
   "id": "76cbe4b9",
   "metadata": {},
   "outputs": [],
   "source": [
    "emissao_co2.head()"
   ]
  },
  {
   "cell_type": "code",
   "execution_count": null,
   "id": "a320efa8",
   "metadata": {},
   "outputs": [],
   "source": [
    "emissao_co2.tail(10)"
   ]
  },
  {
   "cell_type": "code",
   "execution_count": null,
   "id": "48e5b41a",
   "metadata": {},
   "outputs": [],
   "source": [
    "# Verificação de linhas nulas para a coluna de Kilotons of Co2. Agora apenas a partir de 2017.\n",
    "linhas_nulas = emissao_co2[emissao_co2[\"Kilotons of Co2\"].isnull()]\n",
    "print(\"Linhas com 'Kilotons of Co2' nulo:\")\n",
    "linhas_nulas"
   ]
  },
  {
   "cell_type": "code",
   "execution_count": null,
   "id": "13911c15",
   "metadata": {},
   "outputs": [],
   "source": [
    "print('Maior Data:',linhas_nulas['Date'].max())\n",
    "print('Menor Data:',linhas_nulas['Date'].min())"
   ]
  },
  {
   "cell_type": "code",
   "execution_count": null,
   "id": "0b2fd8f4",
   "metadata": {},
   "outputs": [],
   "source": [
    "# pop_long = pop_mundial.melt(\n",
    "#     id_vars=['Country'],\n",
    "#     value_vars=[str(ano) for ano in range(1960, 2017)],\n",
    "#     var_name='Ano',\n",
    "#     value_name='Populacao'\n",
    "# )\n",
    "# pop_long['Ano'] = pop_long['Ano'].astype(int)\n",
    "\n",
    "# Essa linha tenta converter a coluna 'Populacao' para um tipo numérico (por exemplo, de object → float) sem copiar os dados.\n",
    "\n",
    "# Isso é necessário porque, se a coluna estiver como object, a interpolação pode falhar ou se comportar de forma errada.\n",
    "# Fazer a regressão linear para prever os dados de população e depois calcular o kiloton a partir deles.\n",
    "pop_long['Populacao'] = pop_long['Populacao'].infer_objects(copy=False)\n",
    "\n",
    "\"\"\" \n",
    "groupby('Country') → Agrupa os dados por país. Assim, a interpolação será feita individualmente por país.\n",
    "\n",
    "group_keys=False → Evita que o índice do grupo seja adicionado no resultado.\n",
    "\n",
    ".apply(lambda g: g.interpolate(...)) → Aplica a interpolação linear para preencher valores faltantes dentro de cada grupo.\n",
    "\n",
    "interpolate(method='linear', limit_direction='forward') → Estima os valores ausentes com base em uma linha reta (valores anteriores e posteriores).\n",
    "\n",
    "limit_direction='forward' → preenche valores faltantes olhando para frente (ex: preenche 2002 com base em 2001 e 2003).\n",
    "\"\"\"\n",
    "pop_long['Populacao'] = (\n",
    "    pop_long.groupby('Country', group_keys=False)['Populacao']\n",
    "    .apply(lambda g: g.interpolate(method='linear', limit_direction='forward'))\n",
    ")\n",
    "\n",
    "anos_prev = [2017, 2018, 2019]\n",
    "paises = pop_long['Country'].unique()\n",
    "\n",
    "rows_futuras = []\n",
    "\n",
    "\"\"\" \n",
    "Para cada país no array paises (definido antes com pop_long['Country'].unique()), o código vai:\n",
    "\n",
    "Selecionar os dados.\n",
    "\n",
    "Treinar um modelo.\n",
    "\n",
    "Fazer previsões para os anos 2017–2019.\n",
    "\"\"\"\n",
    "for pais in paises:\n",
    "    # Seleciona os dados da população somente daquele país.\n",
    "    dados_pais = pop_long[pop_long['Country'] == pais].sort_values('Ano')\n",
    "    # Cria uma instância do modelo de regressão linear do sklearn.\n",
    "    modelo = LinearRegression()\n",
    "    \n",
    "    # Usar apenas anos disponíveis\n",
    "    #  vetor de anos (coluna Ano) transformado em matriz de uma coluna (necessário para sklearn).\n",
    "    x = dados_pais['Ano'].values.reshape(-1, 1)\n",
    "    # vetor de valores da população.\n",
    "    y = dados_pais['Populacao'].values\n",
    "    if len(x) > 1:  # evitar erro com país de poucos dados\n",
    "        modelo.fit(x, y)\n",
    "        for ano in anos_prev:\n",
    "            \"\"\" \n",
    "            Para cada ano em anos_prev (2017, 2018, 2019):\n",
    "            Previsão da população com o modelo.\n",
    "            \"\"\"\n",
    "            y_pred = modelo.predict([[ano]])[0]\n",
    "            # Adiciona um dicionário com o país, ano e valor estimado na lista rows_futuras.\n",
    "            rows_futuras.append({'Country': pais, 'Ano': ano, 'Populacao': y_pred})\n",
    "\n",
    "# Adiciona as previsões ao DataFrame\n",
    "pop_prev = pd.DataFrame(rows_futuras)\n",
    "pop_long = pd.concat([pop_long, pop_prev], ignore_index=True)\n",
    "\n",
    "# left quer dizer: mantenha todas as linhas de emissao_co2, mesmo que não exista população correspondente no pop_long.\n",
    "# Se não houver correspondência, os valores da população virão como NaN.\n",
    "df_final = pd.merge(\n",
    "    emissao_co2, pop_long,\n",
    "    how='left',\n",
    "    on=['Country', 'Ano']\n",
    ")\n",
    "\n",
    "filtro_nulo = df_final['Kilotons of Co2'].isna() & df_final['Populacao'].notna()\n",
    "\"\"\" \n",
    "df_final.loc[filtro_nulo, 'Kilotons of Co2']\n",
    "Você está selecionando as linhas que têm emissões faltantes mas população disponível (filtro_nulo) e a coluna \"Kilotons of Co2\". Vai preencher essas células.\n",
    "\n",
    "Do lado direito da atribuição:\n",
    "\n",
    "df_final.loc[filtro_nulo, 'Populacao']\n",
    "Pega a população dessas mesmas linhas.\n",
    "\n",
    "df_final.loc[filtro_nulo, 'Metric Tons Per Capita']\n",
    "Pega a emissão per capita (em toneladas métricas) dessas linhas.\n",
    "\n",
    "Multiplica a população pelo valor per capita para obter as emissões totais:\n",
    "Divide por 1000 para converter toneladas métricas em kilotoneladas (kilotons), que é a unidade da coluna \"Kilotons of Co2\".\n",
    "\n",
    ".astype(float)\n",
    "Garante que o resultado seja do tipo float, para evitar problemas de tipo.\n",
    "\n",
    "calculando o valor faltante de emissão total de CO₂ (kilotons) a partir da população multiplicada pela emissão per capita, convertendo a unidade para kilotons, e preenchendo esses valores no DataFrame.\n",
    "\"\"\"\n",
    "df_final.loc[filtro_nulo, 'Kilotons of Co2'] = (\n",
    "    (df_final.loc[filtro_nulo, 'Populacao'] *\n",
    "     df_final.loc[filtro_nulo, 'Metric Tons Per Capita'] / 1000).astype(float)\n",
    ")"
   ]
  },
  {
   "cell_type": "code",
   "execution_count": null,
   "id": "f3f383a9",
   "metadata": {},
   "outputs": [],
   "source": [
    "print(df_final.isna().sum())"
   ]
  },
  {
   "cell_type": "code",
   "execution_count": null,
   "id": "c035f4a2",
   "metadata": {},
   "outputs": [],
   "source": [
    "df_final[df_final['Country']=='Austria']"
   ]
  },
  {
   "cell_type": "code",
   "execution_count": null,
   "id": "6b37fc9a",
   "metadata": {},
   "outputs": [],
   "source": [
    "# Verificando valores faltantes, \n",
    "# Agora, somente a coluna Kilotons of Co2 possui valores faltantes\n",
    "df_final.isnull().sum()"
   ]
  },
  {
   "cell_type": "code",
   "execution_count": null,
   "id": "4c71b7f9",
   "metadata": {},
   "outputs": [],
   "source": [
    "emissao_co2 = df_final.copy()"
   ]
  },
  {
   "cell_type": "markdown",
   "id": "2b3d4802",
   "metadata": {},
   "source": [
    "### Validação dos Países\n",
    "##### Essa é apenas uma etapa de validação, para que seja garantido que os países que foram preenchidos a partir do ffill e bfill estejam com a Região correta. Para isto, vamos utilizar um dataset obtido do Kaggle, com a lista de países por região."
   ]
  },
  {
   "cell_type": "code",
   "execution_count": null,
   "id": "6443ef77",
   "metadata": {},
   "outputs": [],
   "source": [
    "# Leitura da bases de Países por Continentes(Regiões)\n",
    "lista_paises = pd.read_csv('Countries by continents.csv', delimiter=';')\n",
    "lista_paises.head()"
   ]
  },
  {
   "cell_type": "code",
   "execution_count": null,
   "id": "7d1d2f59",
   "metadata": {},
   "outputs": [],
   "source": [
    "emissao_co2.head(5)"
   ]
  },
  {
   "cell_type": "code",
   "execution_count": null,
   "id": "238e73c1",
   "metadata": {},
   "outputs": [],
   "source": [
    "lista_paises.head(5)"
   ]
  },
  {
   "cell_type": "code",
   "execution_count": null,
   "id": "e33352da",
   "metadata": {},
   "outputs": [],
   "source": [
    "# Padronizar textos\n",
    "emissao_co2[\"Country\"] = emissao_co2[\"Country\"].str.strip()\n",
    "emissao_co2[\"Region\"] = emissao_co2[\"Region\"].str.strip()\n",
    "lista_paises[\"Country\"] = lista_paises[\"Country\"].str.strip()\n",
    "lista_paises[\"Region\"] = lista_paises[\"Region\"].str.strip()\n",
    "\n",
    "# Merge apenas com países presentes em emissao_co2\n",
    "comparacao = emissao_co2.merge(lista_paises, on=\"Country\", how=\"left\", suffixes=(\"_emissao\", \"_oficial\"))\n",
    "\n",
    "# Identifica se a região está correta\n",
    "comparacao[\"Regiao_Correta\"] = comparacao[\"Region_emissao\"] == comparacao[\"Region_oficial\"]\n",
    "\n",
    "# Agrupa por país e mostrar apenas 1 linha por país\n",
    "resultado = comparacao[[\"Country\", \"Region_emissao\", \"Region_oficial\", \"Regiao_Correta\"]].drop_duplicates()\n",
    "\n",
    "# Exibir resultado\n",
    "print(\"Comparação das regiões apenas para países presentes em emissao_co2:\")\n",
    "resultado.sort_values(\"Country\")"
   ]
  },
  {
   "cell_type": "code",
   "execution_count": null,
   "id": "01e0ba63",
   "metadata": {},
   "outputs": [],
   "source": [
    "# Filtra os países com região incorreta e region_oficial não nula\n",
    "erros = resultado[\n",
    "    (resultado[\"Regiao_Correta\"] == False) &\n",
    "    (resultado[\"Region_oficial\"].notna())\n",
    "]\n",
    "\n",
    "print(\"Países com região incorreta (e que têm Region_oficial definida):\")\n",
    "print(erros.sort_values(\"Country\"))"
   ]
  },
  {
   "cell_type": "markdown",
   "id": "613c32ae",
   "metadata": {},
   "source": [
    "As regiões encontradas são região de fronteiras entre Ásia e Europa. Dessa forma, foi considerado o que o foi preenchido pelo ffill e bfill anteriormente."
   ]
  },
  {
   "cell_type": "markdown",
   "id": "ea0a4671",
   "metadata": {},
   "source": [
    "### Análise Exploratória (EDA)\n",
    "\n",
    "##### A seção seguinte, apresenta algumas análises exploratórias da base de Emissões de CO2\n",
    "\n",
    "##### Os comentários estão abaixo de cada gráfico."
   ]
  },
  {
   "cell_type": "code",
   "execution_count": null,
   "id": "42eb44d5",
   "metadata": {},
   "outputs": [],
   "source": [
    "print('Soma total da emissão de CO2 por região dentro do horizonte de análise:\\n', emissao_co2.groupby('Region')['Kilotons of Co2'].sum())"
   ]
  },
  {
   "cell_type": "code",
   "execution_count": null,
   "id": "ff44dd4f",
   "metadata": {},
   "outputs": [],
   "source": [
    "print('Média da emissão de CO2 por região dentro do horizonte de análise:\\n', emissao_co2.groupby('Region')['Kilotons of Co2'].mean())"
   ]
  },
  {
   "cell_type": "code",
   "execution_count": null,
   "id": "13d729d9",
   "metadata": {},
   "outputs": [],
   "source": [
    "# Estatísticas descritivas resumidas por regiao\n",
    "emissao_co2.groupby('Region')['Kilotons of Co2'].describe()"
   ]
  },
  {
   "cell_type": "code",
   "execution_count": null,
   "id": "7d933e9b",
   "metadata": {},
   "outputs": [],
   "source": [
    "emissao_asia     = emissao_co2[emissao_co2[\"Region\"] == 'Asia']\n",
    "emissao_europa   = emissao_co2[emissao_co2[\"Region\"] == 'Europa']\n",
    "emissao_americas = emissao_co2[emissao_co2[\"Region\"] == 'Americas']\n",
    "emissao_oceanias = emissao_co2[emissao_co2[\"Region\"] == 'Oceania']\n",
    "emissao_africa   = emissao_co2[emissao_co2[\"Region\"] == 'Africa']"
   ]
  },
  {
   "cell_type": "code",
   "execution_count": null,
   "id": "e19d3979",
   "metadata": {},
   "outputs": [],
   "source": [
    "asia = emissao_asia.groupby(\"Region\")[\"Kilotons of Co2\"].sum().sort_values(ascending=False)"
   ]
  },
  {
   "cell_type": "code",
   "execution_count": null,
   "id": "a69d09ea",
   "metadata": {},
   "outputs": [],
   "source": [
    "\"\"\" asia = emissao_asia.groupby(\"Region\")[\"Kilotons of Co2\"].sum().sort_values(ascending=False)\n",
    "china = emissao_asia[emissao_asia[\"Country\"] == \"China\"].groupby(\"Region\")[\"Kilotons of Co2\"].sum().sort_values(ascending=False)\n",
    "total_asia = (china/asia)*100\n",
    "print('Asia',total_asia)\n",
    "\n",
    "europa = emissao_europa.groupby(\"Region\")[\"Kilotons of Co2\"].sum().sort_values(ascending=False)\n",
    "russia = emissao_europa[emissao_europa[\"Country\"] == \"Russia\"].groupby(\"Region\")[\"Kilotons of Co2\"].sum().sort_values(ascending=False)\n",
    "total_europa = (russia/europa)*100\n",
    "print('Europa:',total_europa)\n",
    "\n",
    "america =emissao_americas.groupby(\"Region\")[\"Kilotons of Co2\"].sum().sort_values(ascending=False)\n",
    "eua = emissao_americas[emissao_americas[\"Country\"] == \"United States\"].groupby(\"Region\")[\"Kilotons of Co2\"].sum().sort_values(ascending=False)\n",
    "total_america = (eua/america)*100\n",
    "print('America:',total_america) \"\"\"\n",
    "\n",
    "# Essa célula foi comentada porque os cálculos acima foram transferidos para uma função"
   ]
  },
  {
   "cell_type": "code",
   "execution_count": null,
   "id": "84ffaa84",
   "metadata": {},
   "outputs": [],
   "source": [
    "def calcular_percentual_emissao(df, pais_alvo, nome_continente):\n",
    "    total_por_regiao = df.groupby(\"Region\")[\"Kilotons of Co2\"].sum().sort_values(ascending=False)\n",
    "    pais_por_regiao = df[df[\"Country\"] == pais_alvo].groupby(\"Region\")[\"Kilotons of Co2\"].sum().sort_values(ascending=False)\n",
    "    percentual = (pais_por_regiao / total_por_regiao) * 100\n",
    "\n",
    "    print(f\"{nome_continente}:\\n{percentual}\\n\")\n",
    "    \n",
    "    return pais_por_regiao, total_por_regiao, percentual\n",
    "\n",
    "\n",
    "china, asia,_ = calcular_percentual_emissao(emissao_asia, \"China\", \"Ásia\")\n",
    "russia, europa,_ = calcular_percentual_emissao(emissao_europa, \"Russia\", \"Europa\")\n",
    "eua, america,_ = calcular_percentual_emissao(emissao_americas, \"United States\", \"América\")"
   ]
  },
  {
   "cell_type": "code",
   "execution_count": null,
   "id": "3f3e7670",
   "metadata": {},
   "outputs": [],
   "source": [
    "# Valores absolutos (em Kilotons)\n",
    "china_val = china.values[0]\n",
    "asia_total = asia.values[0]\n",
    "outros_asia = asia_total - china_val\n",
    "\n",
    "russia_val = russia.values[0]\n",
    "europa_total = europa.values[0]\n",
    "outros_europa = europa_total - russia_val\n",
    "\n",
    "eua_val = eua.values[0]\n",
    "america_total = america.values[0]\n",
    "outros_america = america_total - eua_val\n",
    "\n",
    "# DataFrame com os dados\n",
    "df = pd.DataFrame({\n",
    "    'Região': ['Ásia', 'Europa', 'América'],\n",
    "    'País': [china_val, russia_val, eua_val],\n",
    "    'Outros': [outros_asia, outros_europa, outros_america]\n",
    "})\n",
    "\n",
    "# Plot stacked bar\n",
    "plt.figure(figsize=(8, 5))\n",
    "bar1 = plt.bar(df['Região'], df['País'], label='País selecionado', color=['red', 'blue', 'green'])\n",
    "bar2 = plt.bar(df['Região'], df['Outros'], bottom=df['País'], label='Outros países', color='lightgray')\n",
    "\n",
    "# Título e legendas\n",
    "plt.title('Participação nas Emissões de CO₂ por Região (Kilotons)')\n",
    "plt.ylabel('Emissões (Kilotons de CO₂)')\n",
    "plt.legend()\n",
    "plt.tight_layout()\n",
    "plt.show()"
   ]
  },
  {
   "cell_type": "markdown",
   "id": "13ca63c9",
   "metadata": {},
   "source": [
    "A partir deste gráfico, é possível perceber a contribuição total de emissão dos top 3 países em suas respctivas regiões."
   ]
  },
  {
   "cell_type": "code",
   "execution_count": null,
   "id": "e64adce0",
   "metadata": {},
   "outputs": [],
   "source": [
    "# Agrupar por região e somar as emissões\n",
    "emissoes_por_regiao = emissao_co2.groupby(\"Region\")[\"Kilotons of Co2\"].sum().sort_values(ascending=False)\n",
    "\n",
    "# Plot\n",
    "plt.figure(figsize=(8, 5))\n",
    "emissoes_por_regiao.plot(kind=\"bar\", color=\"skyblue\", edgecolor=\"black\")\n",
    "\n",
    "plt.title(\"Emissões de CO₂ por Região (Kilotons)\", fontsize=14)\n",
    "plt.xlabel(\"Região\")\n",
    "plt.ylabel(\"Kilotons de CO₂\")\n",
    "plt.xticks(rotation=45)\n",
    "plt.tight_layout()\n",
    "\n",
    "plt.show()"
   ]
  },
  {
   "cell_type": "markdown",
   "id": "cc576b79",
   "metadata": {},
   "source": [
    "Percebe-se que a região da Ásia é uma das que geram mais pegadas de CO2 em relação as demais regiões. A Oceania é a que menor gera pegadas de CO2."
   ]
  },
  {
   "cell_type": "code",
   "execution_count": null,
   "id": "02f781ac",
   "metadata": {},
   "outputs": [],
   "source": [
    "# Agrupar por país e somar as emissões\n",
    "emissoes_por_pais_asia = emissao_asia.groupby(\"Country\")[\"Kilotons of Co2\"].sum().sort_values(ascending=True)\n",
    "\n",
    "# Plot com barras horizontais\n",
    "plt.figure(figsize=(8, 6))\n",
    "emissoes_por_pais_asia.plot(kind=\"barh\", color=\"skyblue\", edgecolor=\"black\")\n",
    "\n",
    "plt.title(\"Emissões de CO₂ por País na Ásia (Kilotons)\", fontsize=14)\n",
    "plt.xlabel(\"Kilotons de CO₂\")\n",
    "plt.ylabel(\"País\")\n",
    "plt.tight_layout()\n",
    "plt.show()"
   ]
  },
  {
   "cell_type": "markdown",
   "id": "b5d20d20",
   "metadata": {},
   "source": [
    "Dentro da região da Ásia, a China lidera as emissões de CO2."
   ]
  },
  {
   "cell_type": "code",
   "execution_count": null,
   "id": "eeef3ced",
   "metadata": {},
   "outputs": [],
   "source": [
    "# Agrupar por região e somar as emissões\n",
    "emissoes_por_regiao = emissao_co2.groupby(\"Region\")[\"Kilotons of Co2\"].mean().sort_values(ascending=False)\n",
    "\n",
    "# Plot\n",
    "plt.figure(figsize=(8, 5))\n",
    "emissoes_por_regiao.plot(kind=\"bar\", color=\"skyblue\", edgecolor=\"black\")\n",
    "\n",
    "plt.title(\"Média Emissões de CO₂ por Região (Kilotons)\", fontsize=14)\n",
    "plt.xlabel(\"Região\")\n",
    "plt.ylabel(\"Kilotons de CO₂\")\n",
    "plt.xticks(rotation=45)\n",
    "plt.tight_layout()\n",
    "\n",
    "plt.show()"
   ]
  },
  {
   "cell_type": "code",
   "execution_count": null,
   "id": "5b199f92",
   "metadata": {},
   "outputs": [],
   "source": [
    "# Garantir que a coluna 'Date' está em formato datetime\n",
    "emissao_co2[\"Date\"] = pd.to_datetime(emissao_co2[\"Date\"])\n",
    "\n",
    "# Criar uma nova coluna 'Ano'\n",
    "emissao_co2[\"Ano\"] = emissao_co2[\"Date\"].dt.year\n",
    "\n",
    "# Agrupar por ano e região\n",
    "emissoes_ano_regiao = emissao_co2.groupby([\"Ano\", \"Region\"])[\"Kilotons of Co2\"].sum().reset_index()\n",
    "\n",
    "# Plotar um gráfico de linhas com uma linha para cada região\n",
    "plt.figure(figsize=(10, 6))\n",
    "for regiao in emissoes_ano_regiao[\"Region\"].unique():\n",
    "    df_r = emissoes_ano_regiao[emissoes_ano_regiao[\"Region\"] == regiao]\n",
    "    plt.plot(df_r[\"Ano\"], df_r[\"Kilotons of Co2\"], label=regiao)\n",
    "\n",
    "plt.title(\"Emissões de CO₂ por Região ao Longo dos Anos\")\n",
    "plt.xlabel(\"Ano\")\n",
    "plt.ylabel(\"Kilotons de CO₂\")\n",
    "plt.legend()\n",
    "plt.grid(True)\n",
    "plt.tight_layout()\n",
    "plt.show()"
   ]
  },
  {
   "cell_type": "markdown",
   "id": "5a33c068",
   "metadata": {},
   "source": [
    "Nesse gráfico, é possível constatar a discrepância de emissões de CO2 da Ásia em relação aos demais Continentes."
   ]
  },
  {
   "cell_type": "code",
   "execution_count": null,
   "id": "cfde0e31",
   "metadata": {},
   "outputs": [],
   "source": [
    "# Selecionar os N países com maior emissão total\n",
    "top_paises = (\n",
    "    emissao_co2.groupby(\"Country\")[\"Kilotons of Co2\"]\n",
    "    .sum()\n",
    "    .sort_values(ascending=False)\n",
    "    .head(3)  # Altere esse número conforme necessário\n",
    "    .index\n",
    ")\n",
    "\n",
    "# Filtrar apenas esses países no DataFrame\n",
    "df_filtrado = emissao_co2[emissao_co2[\"Country\"].isin(top_paises)]\n",
    "\n",
    "# Plot\n",
    "plt.figure(figsize=(10, 6))\n",
    "for pais in df_filtrado[\"Country\"].unique():\n",
    "    df_p = df_filtrado[df_filtrado[\"Country\"] == pais]\n",
    "    plt.plot(df_p[\"Ano\"], df_p[\"Kilotons of Co2\"], label=pais)\n",
    "\n",
    "plt.title(\"Emissões de CO₂ dos 3 Maiores Países ao Longo dos Anos\")\n",
    "plt.xlabel(\"Ano\")\n",
    "plt.ylabel(\"Kilotons de CO₂\")\n",
    "plt.legend()\n",
    "plt.grid(True)\n",
    "plt.tight_layout()\n",
    "plt.show()\n"
   ]
  },
  {
   "cell_type": "markdown",
   "id": "16b99ec9",
   "metadata": {},
   "source": [
    "Dentre o Top 3, a China desponta como o maior emissor de CO2 ao longo do tempo. Esse crescimento acelerado pode ser também explicado pelo acelerado crescimento populacional do país"
   ]
  },
  {
   "cell_type": "code",
   "execution_count": null,
   "id": "82b75e9d",
   "metadata": {},
   "outputs": [],
   "source": [
    "# Selecionar os N países com maior emissão total\n",
    "top_paises = (\n",
    "    emissao_co2.groupby(\"Country\")[\"Kilotons of Co2\"]\n",
    "    .sum()\n",
    "    .sort_values(ascending=False)\n",
    "    .head(10)  # Altere esse número conforme necessário\n",
    "    .index\n",
    ")\n",
    "\n",
    "# Filtrar apenas esses países no DataFrame\n",
    "df_filtrado = emissao_co2[emissao_co2[\"Country\"].isin(top_paises)]\n",
    "\n",
    "# Plot\n",
    "plt.figure(figsize=(10, 6))\n",
    "for pais in df_filtrado[\"Country\"].unique():\n",
    "    df_p = df_filtrado[df_filtrado[\"Country\"] == pais]\n",
    "    plt.plot(df_p[\"Ano\"], df_p[\"Kilotons of Co2\"], label=pais)\n",
    "\n",
    "plt.title(\"Emissões de CO₂ dos 10 Maiores Países ao Longo dos Anos\")\n",
    "plt.xlabel(\"Ano\")\n",
    "plt.ylabel(\"Kilotons de CO₂\")\n",
    "plt.legend()\n",
    "plt.grid(True)\n",
    "plt.tight_layout()\n",
    "plt.show()\n"
   ]
  },
  {
   "cell_type": "code",
   "execution_count": null,
   "id": "e6b6ddc5",
   "metadata": {},
   "outputs": [],
   "source": [
    "# Filtrar dados da Austrália ou outro país se desejar\n",
    "df_china = emissao_co2[emissao_co2[\"Country\"] == \"China\"]\n",
    "\n",
    "# Plotar a correlação\n",
    "plt.figure(figsize=(8, 6))\n",
    "plt.scatter(df_china[\"Kilotons of Co2\"], df_china[\"Metric Tons Per Capita\"], color=\"orange\", edgecolor=\"black\")\n",
    "\n",
    "plt.title(\"Correlação: Kilotons vs. Metric Tons Per Capita (China)\")\n",
    "plt.xlabel(\"Kilotons de CO₂\")\n",
    "plt.ylabel(\"Toneladas Métricas Per Capita\")\n",
    "plt.grid(True)\n",
    "plt.tight_layout()\n",
    "plt.show()"
   ]
  },
  {
   "cell_type": "markdown",
   "id": "4352b26b",
   "metadata": {},
   "source": [
    "Percebe-se neste gráfico, uma correlação positiva forte, para a China por exemplo, que é o maior emisssor. Se fôssemos calcular o coeficiente de pearson, estaria próximo a 1. O que nos indica que quanto maior a tonelada métrica per capita, maior a emissão em kilotons de CO2."
   ]
  },
  {
   "cell_type": "code",
   "execution_count": null,
   "id": "5f95e411",
   "metadata": {},
   "outputs": [],
   "source": [
    "# Garantir que a coluna 'Date' está no formato datetime e criar coluna 'Ano'\n",
    "emissao_co2[\"Date\"] = pd.to_datetime(emissao_co2[\"Date\"])\n",
    "emissao_co2[\"Ano\"] = emissao_co2[\"Date\"].dt.year\n",
    "\n",
    "# Filtrar para a Austrália (ou outro país)\n",
    "df_china = emissao_co2[emissao_co2[\"Country\"] == \"China\"]\n",
    "\n",
    "# Plot com dois eixos y\n",
    "fig, ax1 = plt.subplots(figsize=(10, 6))\n",
    "\n",
    "# Primeiro eixo (Kilotons of CO2)\n",
    "ax1.set_title(\"Emissões da China ao Longo dos Anos\")\n",
    "ax1.set_xlabel(\"Ano\")\n",
    "ax1.set_ylabel(\"Kilotons de CO₂\", color=\"blue\")\n",
    "ax1.plot(df_china[\"Ano\"], df_china[\"Kilotons of Co2\"], color=\"blue\", marker=\"o\", label=\"Kilotons CO₂\")\n",
    "ax1.tick_params(axis=\"y\", labelcolor=\"blue\")\n",
    "\n",
    "# Segundo eixo (Metric Tons per Capita)\n",
    "ax2 = ax1.twinx()\n",
    "ax2.set_ylabel(\"Toneladas Métricas Per Capita\", color=\"green\")\n",
    "ax2.plot(df_china[\"Ano\"], df_china[\"Metric Tons Per Capita\"], color=\"green\", marker=\"s\", label=\"Toneladas per Capita\")\n",
    "ax2.tick_params(axis=\"y\", labelcolor=\"green\")\n",
    "\n",
    "plt.grid(True)\n",
    "fig.tight_layout()\n",
    "plt.show()"
   ]
  },
  {
   "cell_type": "markdown",
   "id": "3c11b247",
   "metadata": {},
   "source": [
    "A partir desse gráfico, nota-se o crescimento acelerado de emissões da China, fato que pode ser corroborado com a alta industrialização do país. Assim como a elevada taxa de crescimento da população, e consequentemente a concentração de emissões per capita"
   ]
  },
  {
   "cell_type": "code",
   "execution_count": null,
   "id": "49dcc7cb",
   "metadata": {},
   "outputs": [],
   "source": [
    "# Garantir que não há valores nulos em 'Kilotons of Co2' e 'Region'\n",
    "df_plot = emissao_co2.dropna(subset=[\"Kilotons of Co2\", \"Region\"])\n",
    "\n",
    "# Criar o boxplot\n",
    "plt.figure(figsize=(10, 6))\n",
    "sns.boxplot(x=\"Region\", y=\"Kilotons of Co2\", data=df_plot, palette=\"Set3\")\n",
    "\n",
    "plt.title(\"Distribuição de Emissões de CO₂ por Região\")\n",
    "plt.xlabel(\"Região\")\n",
    "plt.ylabel(\"Kilotons de CO₂\")\n",
    "plt.xticks(rotation=45)\n",
    "plt.tight_layout()\n",
    "plt.show()"
   ]
  },
  {
   "cell_type": "markdown",
   "id": "88479e4e",
   "metadata": {},
   "source": [
    "Neste boxplot, fica claro a discrepância de emissões do continente asiático, seguido pelo americano e o europeu. Os valores do continente asiático chegam a ser outliers quando comparado com os demais."
   ]
  }
 ],
 "metadata": {
  "kernelspec": {
   "display_name": "venv",
   "language": "python",
   "name": "python3"
  },
  "language_info": {
   "codemirror_mode": {
    "name": "ipython",
    "version": 3
   },
   "file_extension": ".py",
   "mimetype": "text/x-python",
   "name": "python",
   "nbconvert_exporter": "python",
   "pygments_lexer": "ipython3",
   "version": "3.11.2"
  }
 },
 "nbformat": 4,
 "nbformat_minor": 5
}
